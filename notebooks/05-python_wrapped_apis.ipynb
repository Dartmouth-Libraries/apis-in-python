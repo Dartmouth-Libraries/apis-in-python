{
 "cells": [
  {
   "cell_type": "markdown",
   "metadata": {},
   "source": [
    "# Python-wrapped APIs\n",
    "\n",
    "So far, we have only used Python to implement the HTTP requests as they are described in the API documentation. This takes quite a bit of work, and we would have to do it all over again for the next API we want to use.\n",
    "\n",
    "Fortunately, there are Python libraries available for many APIs that do most of the work for us. How to use such so-called _API wrappers_ depends on the individual implementationm but it usually follows more or less the same pattern. In this notebook, we will use the API to [PubMed](https://www.ncbi.nlm.nih.gov/pmc/tools/developers/) via its Python wrapper [PyMed](https://pypi.org/project/pymed/) to quickly gather large amounts of bibliometric metadata.\n"
   ]
  },
  {
   "cell_type": "markdown",
   "metadata": {},
   "source": [
    "## Getting Started\n",
    "\n",
    "We can install the library just like any other python package:\n"
   ]
  },
  {
   "cell_type": "code",
   "execution_count": null,
   "metadata": {},
   "outputs": [],
   "source": [
    "# The '!' tells the Jupyter notebook that this is not Python code, but should be run on the command line\n",
    "!pip install pymed"
   ]
  },
  {
   "cell_type": "markdown",
   "metadata": {},
   "source": [
    "Now we are ready to go!\n"
   ]
  },
  {
   "cell_type": "markdown",
   "metadata": {},
   "source": [
    "## Using the Python wrapper\n",
    "\n",
    "According to the very brief [documentation](https://pypi.org/project/pymed/), we can use the wrapper as follows:\n"
   ]
  },
  {
   "cell_type": "code",
   "execution_count": null,
   "metadata": {},
   "outputs": [],
   "source": [
    "import pymed\n",
    "\n",
    "pubmed = pymed.PubMed(tool=\"RR-demo\", email=\"simon.stone@dartmouth.edu\")\n",
    "results = pubmed.query(\"Simon Stone\")\n",
    "\n",
    "for result in results:\n",
    "    print(result.title)"
   ]
  },
  {
   "cell_type": "code",
   "execution_count": null,
   "metadata": {},
   "outputs": [],
   "source": [
    "results = pubmed.query(\"(Dresden[Affiliation]) AND Simon Stone[Author]\")\n",
    "for result in results:\n",
    "    print(result.title)"
   ]
  },
  {
   "cell_type": "markdown",
   "metadata": {},
   "source": [
    "We could also cast a wider net to gather large amounts of data:\n"
   ]
  },
  {
   "cell_type": "code",
   "execution_count": null,
   "metadata": {},
   "outputs": [],
   "source": [
    "results = pubmed.query(\"COVID-19\", max_results=1000)"
   ]
  },
  {
   "cell_type": "markdown",
   "metadata": {},
   "source": [
    "Using a little bit of data wrangling, we can turn these results into a dataframe:\n"
   ]
  },
  {
   "cell_type": "code",
   "execution_count": null,
   "metadata": {},
   "outputs": [],
   "source": [
    "import pandas as pd\n",
    "\n",
    "result_dicts = [result.toDict() for result in results]\n",
    "\n",
    "df = pd.DataFrame(result_dicts)"
   ]
  },
  {
   "cell_type": "code",
   "execution_count": null,
   "metadata": {},
   "outputs": [],
   "source": [
    "df"
   ]
  },
  {
   "cell_type": "markdown",
   "metadata": {},
   "source": [
    "There is still some data cleaning and wrangling left for us to do, but it is a great start!\n"
   ]
  },
  {
   "cell_type": "markdown",
   "metadata": {},
   "source": [
    "## Conclusion\n"
   ]
  },
  {
   "cell_type": "markdown",
   "metadata": {},
   "source": [
    "- APIs are a great way to get data in an automated way.\n",
    "\n",
    "- RESTful APIs are convenient to use since they all have a similar structure.\n",
    "\n",
    "- We can save ourselves a lot of work by using Python wrappers around the RESTful APIs.\n",
    "\n",
    "## Next steps\n",
    "\n",
    "There are many, many more Python API wrappers similar to PyMed out there. In fact, whenever you need data from a web service, you should first do an internet search for:\n",
    "\n",
    "```\n",
    "<name of the service> api python\n",
    "```\n",
    "\n",
    "There is a good chance that you will find a library you can use!\n",
    "\n",
    "If there is an API, but no Python library wrapping it, you can still use the RESTful interface directly using the `requests` library.\n",
    "\n",
    "How about trying out the [NASA API](https://api.nasa.gov/)?\n",
    "\n",
    "Or talk to ChatGPT using the [OpenAI API](https://github.com/openai/openai-python)?\n",
    "\n",
    "Or tune into Spotify's vast collection of music using [Spotipy](https://spotipy.readthedocs.io/)?\n"
   ]
  },
  {
   "cell_type": "markdown",
   "metadata": {},
   "source": [
    "<table >\n",
    "<tbody>\n",
    "  <tr>\n",
    "    <td style=\"padding:0px;border-width:0px;vertical-align:center\">    \n",
    "    Created by Simon Stone for Dartmouth College Library under <a href=\"https://creativecommons.org/licenses/by/4.0/\">Creative Commons CC BY-NC 4.0 License</a>.<br>For questions, comments, or improvements, email <a href=\"mailto:researchdatahelp@groups.dartmouth.edu\">Research Data Services</a>.\n",
    "    </td>\n",
    "    <td style=\"padding:0 0 0 1em;border-width:0px;vertical-align:center\"><img alt=\"Creative Commons License\" src=\"https://i.creativecommons.org/l/by/4.0/88x31.png\"/></td>\n",
    "  </tr>\n",
    "</tbody>\n",
    "</table>\n"
   ]
  }
 ],
 "metadata": {
  "kernelspec": {
   "display_name": ".env",
   "language": "python",
   "name": "python3"
  },
  "language_info": {
   "codemirror_mode": {
    "name": "ipython",
    "version": 3
   },
   "file_extension": ".py",
   "mimetype": "text/x-python",
   "name": "python",
   "nbconvert_exporter": "python",
   "pygments_lexer": "ipython3",
   "version": "3.11.4"
  },
  "orig_nbformat": 4
 },
 "nbformat": 4,
 "nbformat_minor": 2
}
