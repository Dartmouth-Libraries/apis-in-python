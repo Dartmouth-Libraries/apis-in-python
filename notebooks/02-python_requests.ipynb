{
 "cells": [
  {
   "cell_type": "markdown",
   "metadata": {},
   "source": [
    "# Making HTTP requests in Python\n",
    "\n",
    "You don't have to use a browser to make HTTP requests. In fact, there are many tools to do so.\n",
    "\n",
    "One of the most popular ones is [curl](https://curl.se/), which is a command line tool to make HTTP requests available on many platforms.\n",
    "\n",
    "In this course, we want to use Python to make requests, however. We could use a built-in Python library called [urllib](https://docs.python.org/3/howto/urllib2.html), but it can be a little clunky to use.\n",
    "\n",
    "Instead, we will use the much more elegant [requests](https://requests.readthedocs.io/en/latest/) library.\n",
    "\n",
    "This is not a standard Python library, so you have to install it before you proceed. You can do so using `pip` from the command line, or right from inside this notebook:\n"
   ]
  },
  {
   "cell_type": "code",
   "execution_count": 1,
   "metadata": {},
   "outputs": [
    {
     "name": "stdout",
     "output_type": "stream",
     "text": [
      "Requirement already satisfied: requests in /Users/f006pfk/source/apis-in-python/.env/lib/python3.11/site-packages (2.31.0)\n",
      "Requirement already satisfied: charset-normalizer<4,>=2 in /Users/f006pfk/source/apis-in-python/.env/lib/python3.11/site-packages (from requests) (3.2.0)\n",
      "Requirement already satisfied: idna<4,>=2.5 in /Users/f006pfk/source/apis-in-python/.env/lib/python3.11/site-packages (from requests) (3.4)\n",
      "Requirement already satisfied: urllib3<3,>=1.21.1 in /Users/f006pfk/source/apis-in-python/.env/lib/python3.11/site-packages (from requests) (2.0.5)\n",
      "Requirement already satisfied: certifi>=2017.4.17 in /Users/f006pfk/source/apis-in-python/.env/lib/python3.11/site-packages (from requests) (2023.7.22)\n",
      "\n",
      "\u001b[1m[\u001b[0m\u001b[34;49mnotice\u001b[0m\u001b[1;39;49m]\u001b[0m\u001b[39;49m A new release of pip is available: \u001b[0m\u001b[31;49m23.0.1\u001b[0m\u001b[39;49m -> \u001b[0m\u001b[32;49m23.2.1\u001b[0m\n",
      "\u001b[1m[\u001b[0m\u001b[34;49mnotice\u001b[0m\u001b[1;39;49m]\u001b[0m\u001b[39;49m To update, run: \u001b[0m\u001b[32;49mpip install --upgrade pip\u001b[0m\n"
     ]
    }
   ],
   "source": [
    "# The '!' tells the Jupyter notebook that this is not Python code, but should be run on the command line\n",
    "!pip install requests"
   ]
  },
  {
   "cell_type": "markdown",
   "metadata": {},
   "source": [
    "Now that the library is installed, we can import it and make the `GET` request that our browser made above ourselves:\n"
   ]
  },
  {
   "cell_type": "code",
   "execution_count": 2,
   "metadata": {},
   "outputs": [],
   "source": [
    "import requests\n",
    "\n",
    "response = requests.get(\"https://www.library.dartmouth.edu/research-data-services\")"
   ]
  },
  {
   "cell_type": "markdown",
   "metadata": {},
   "source": [
    "The `requests.get()` function returns a special object defined by the `requests` library called `Response`:\n"
   ]
  },
  {
   "cell_type": "code",
   "execution_count": 3,
   "metadata": {},
   "outputs": [
    {
     "data": {
      "text/plain": [
       "requests.models.Response"
      ]
     },
     "execution_count": 3,
     "metadata": {},
     "output_type": "execute_result"
    }
   ],
   "source": [
    "type(response)"
   ]
  },
  {
   "cell_type": "markdown",
   "metadata": {},
   "source": [
    "This object holds all the information we saw in the Developer Console of our browser. We can learn how to get to that information by studying the [documentation of the `Response` object](https://requests.readthedocs.io/en/latest/api/#requests.Response).\n",
    "\n",
    "Let's go over some of the most important properties:\n"
   ]
  },
  {
   "cell_type": "code",
   "execution_count": 4,
   "metadata": {},
   "outputs": [
    {
     "name": "stdout",
     "output_type": "stream",
     "text": [
      "Status code: 200\n",
      "Reason: OK\n",
      "Headers: {'Content-Type': 'text/html; charset=UTF-8', 'Transfer-Encoding': 'chunked', 'Connection': 'keep-alive', 'Keep-Alive': 'timeout=30', 'Date': 'Fri, 29 Sep 2023 17:18:22 GMT', 'Server': 'Apache/2.4.34 (Red Hat) OpenSSL/1.0.2k-fips PHP/8.1.23 mod_fcgid/2.3.9 mod_perl/2.0.11 Perl/v5.30.1', 'X-Content-Type-Options': 'nosniff, nosniff', 'X-Powered-By': 'PHP/8.1.23', 'Cache-Control': 'must-revalidate, no-cache, private', 'X-Drupal-Dynamic-Cache': 'UNCACHEABLE', 'X-UA-Compatible': 'IE=edge', 'Content-language': 'en', 'X-Frame-Options': 'DENY', 'Expires': 'Sun, 19 Nov 1978 05:00:00 GMT', 'X-Generator': 'Drupal 9 (https://www.drupal.org)', 'Vary': 'Origin,Referer', 'X-Referer': '(null)', 'X-XFO': '(null)', 'X-Test': 'yes'}\n",
      "Response body: <!DOCTYPE html>\n",
      "<html  lang=\"en\" dir=\"ltr\" prefix=\"og: https://ogp.me/ns#\">\n",
      "  <head>\n",
      "    <!-- Google Tag Manager -->\n",
      "    <script>(function(w,d,s,l,i){w[l]=w[l]||[];w[l].push({'gtm.start':\n",
      "    new Date().getTime(),event:'gtm.js'});var f=d.getElementsByTagName(s)[0],\n",
      "    j=d.createElement(s),dl=l!='dataLayer'?'&l='+l:'';j.async=true;j.src=\n",
      "    'https://www.googletagmanager.com/gtm.js?id='+i+dl;f.parentNode.insertBefore(j,f);\n",
      "    })(window,document,'script','dataLayer','GTM-P8TRCSH');</script>\n",
      "    <!-- End Google Tag Manager -->\n",
      "    <meta charset=\"utf-8\" />\n",
      "<noscript><style>form.antibot * :not(.antibot-message) { display: none !important; }</style>\n",
      "</noscript><meta property=\"og:site_name\" content=\"Dartmouth Library\" />\n",
      "<meta property=\"og:url\" content=\"https://www.library.dartmouth.edu/research-data-services\" />\n",
      "<meta property=\"og:title\" content=\"Research Data Services | Dartmouth Library\" />\n",
      "<meta property=\"og:description\" content=\"We are here to help you with your data and computationally-intensive research.\" />\n",
      "<meta name=\"twitter:card\" content=\"photo\" />\n",
      "<meta name=\"twitter:title\" content=\"Research Data Services | Dartmouth Library\" />\n",
      "<meta name=\"twitter:url\" content=\"https://www.library.dartmouth.edu/research-data-services\" />\n",
      "<meta name=\"google-site-verification\" content=\"V2A7Duw8-RL09OAp42y7s80Dt62eLP5fTI9qaUf6VDY\" />\n",
      "<meta name=\"Generator\" content=\"Drupal 9 (https://www.drupal.org)\" />\n",
      "<meta name=\"MobileOptimized\" content=\"width\" />\n",
      "<meta name=\"HandheldFriendly\" content=\"true\" />\n",
      "<meta name=\"viewport\" content=\"width=device-width, initial-scale=1.0\" />\n",
      "<link rel=\"icon\" href=\"/themes/custom/bootstrap_dcl/favicon.ico\" type=\"image/vnd.microsoft.icon\" />\n",
      "<link rel=\"canonical\" href=\"https://www.library.dartmouth.edu/research-data-services\" />\n",
      "\n",
      "    <meta name=\"theme-color\" content=\"transparent\">\n",
      "    <title>Research Data Services | Dartmouth Library</title>\n",
      "    <link rel=\"stylesheet\" media=\"all\" href=\"/sites/default/files/css/css_NCf6iy7073RPfQvIcB7GHYhb12iCbzWNnRFPqyx\n"
     ]
    }
   ],
   "source": [
    "# The status code and its explanation:\n",
    "print(\"Status code:\", response.status_code)\n",
    "print(\"Reason:\", response.reason)\n",
    "\n",
    "# The headers of the response\n",
    "print(\"Headers:\", response.headers)\n",
    "\n",
    "# The requested data (truncated to the first 2000 characters)\n",
    "print(\"Response body:\", response.text[:2000])"
   ]
  },
  {
   "cell_type": "markdown",
   "metadata": {},
   "source": [
    "The response also includes the triggering request as a [`PreparedRequest`](https://requests.readthedocs.io/en/latest/api/#requests.PreparedRequest) object:\n"
   ]
  },
  {
   "cell_type": "code",
   "execution_count": 5,
   "metadata": {},
   "outputs": [
    {
     "data": {
      "text/plain": [
       "requests.models.PreparedRequest"
      ]
     },
     "execution_count": 5,
     "metadata": {},
     "output_type": "execute_result"
    }
   ],
   "source": [
    "type(response.request)"
   ]
  },
  {
   "cell_type": "markdown",
   "metadata": {},
   "source": [
    "We can use that to check what exactly was sent to the server:\n"
   ]
  },
  {
   "cell_type": "code",
   "execution_count": 6,
   "metadata": {},
   "outputs": [
    {
     "data": {
      "text/plain": [
       "{'User-Agent': 'python-requests/2.31.0', 'Accept-Encoding': 'gzip, deflate', 'Accept': '*/*', 'Connection': 'keep-alive'}"
      ]
     },
     "execution_count": 6,
     "metadata": {},
     "output_type": "execute_result"
    }
   ],
   "source": [
    "# Check the headers of the triggering request\n",
    "response.request.headers"
   ]
  },
  {
   "cell_type": "markdown",
   "metadata": {},
   "source": [
    "Interesting! `requests` sends a specific `User-Agent` to the server by default to identify itself.\n",
    "\n",
    "If you want to learn how to communicate with an API using requests like this, proceed to [the next notebook](03-api_requests.ipynb).\n"
   ]
  },
  {
   "cell_type": "markdown",
   "metadata": {},
   "source": []
  }
 ],
 "metadata": {
  "kernelspec": {
   "display_name": ".env",
   "language": "python",
   "name": "python3"
  },
  "language_info": {
   "codemirror_mode": {
    "name": "ipython",
    "version": 3
   },
   "file_extension": ".py",
   "mimetype": "text/x-python",
   "name": "python",
   "nbconvert_exporter": "python",
   "pygments_lexer": "ipython3",
   "version": "3.11.4"
  },
  "orig_nbformat": 4
 },
 "nbformat": 4,
 "nbformat_minor": 2
}
