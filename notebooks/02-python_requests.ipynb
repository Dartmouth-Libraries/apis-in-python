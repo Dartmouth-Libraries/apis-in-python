{
 "cells": [
  {
   "cell_type": "markdown",
   "metadata": {},
   "source": [
    "# Making HTTP requests in Python\n",
    "\n",
    "You don't have to use a browser to make HTTP requests. In fact, there are many tools to do so.\n",
    "\n",
    "One of the most popular ones is [curl](https://curl.se/), which is a command line tool to make HTTP requests available on many platforms.\n",
    "\n",
    "In this course, we want to use Python to make requests, however. We could use a built-in Python library called [urllib](https://docs.python.org/3/howto/urllib2.html), but it can be a little clunky to use.\n",
    "\n",
    "Instead, we will use the much more elegant [requests](https://requests.readthedocs.io/en/latest/) library.\n",
    "\n",
    "This is not a standard Python library, so you have to install it before you proceed. You can do so using `pip` from the command line, or right from inside this notebook:\n"
   ]
  },
  {
   "cell_type": "code",
   "execution_count": null,
   "metadata": {},
   "outputs": [],
   "source": [
    "# The '!' tells the Jupyter notebook that this is not Python code, but should be run on the command line\n",
    "!pip install requests"
   ]
  },
  {
   "cell_type": "markdown",
   "metadata": {},
   "source": [
    "Now that the library is installed, we can import it and make the `GET` request that our browser made above ourselves:\n"
   ]
  },
  {
   "cell_type": "code",
   "execution_count": null,
   "metadata": {},
   "outputs": [],
   "source": [
    "import requests\n",
    "\n",
    "response = requests.get(\"https://www.library.dartmouth.edu/research-data-services\")"
   ]
  },
  {
   "cell_type": "markdown",
   "metadata": {},
   "source": [
    "The `requests.get()` function returns a special object defined by the `requests` library called `Response`:\n"
   ]
  },
  {
   "cell_type": "code",
   "execution_count": null,
   "metadata": {},
   "outputs": [],
   "source": [
    "type(response)"
   ]
  },
  {
   "cell_type": "markdown",
   "metadata": {},
   "source": [
    "This object holds all the information we saw in the Developer Console of our browser. We can learn how to get to that information by studying the [documentation of the `Response` object](https://requests.readthedocs.io/en/latest/api/#requests.Response).\n",
    "\n",
    "Let's go over some of the most important properties:\n"
   ]
  },
  {
   "cell_type": "code",
   "execution_count": null,
   "metadata": {},
   "outputs": [],
   "source": [
    "# The status code and its explanation:\n",
    "print(\"Status code:\", response.status_code)\n",
    "print(\"Reason:\", response.reason)\n",
    "\n",
    "# The headers of the response\n",
    "print(\"Headers:\", response.headers)\n",
    "\n",
    "# The requested data (truncated to the first 2000 characters)\n",
    "print(\"Response body:\", response.text[:2000])"
   ]
  },
  {
   "cell_type": "markdown",
   "metadata": {},
   "source": [
    "The response also includes the triggering request as a [`PreparedRequest`](https://requests.readthedocs.io/en/latest/api/#requests.PreparedRequest) object:\n"
   ]
  },
  {
   "cell_type": "code",
   "execution_count": null,
   "metadata": {},
   "outputs": [],
   "source": [
    "type(response.request)"
   ]
  },
  {
   "cell_type": "markdown",
   "metadata": {},
   "source": [
    "We can use that to check what exactly was sent to the server:\n"
   ]
  },
  {
   "cell_type": "code",
   "execution_count": null,
   "metadata": {},
   "outputs": [],
   "source": [
    "# Check the headers of the triggering request\n",
    "response.request.headers"
   ]
  },
  {
   "cell_type": "markdown",
   "metadata": {},
   "source": [
    "Interesting! `requests` sends a specific `User-Agent` to the server by default to identify itself.\n",
    "\n",
    "If you want to learn how to communicate with an API using requests like this, proceed to [the next notebook](03-api_requests.ipynb).\n"
   ]
  },
  {
   "cell_type": "markdown",
   "metadata": {},
   "source": [
    "<table >\n",
    "<tbody>\n",
    "  <tr>\n",
    "    <td style=\"padding:0px;border-width:0px;vertical-align:center\">    \n",
    "    Created by Simon Stone for Dartmouth College Library under <a href=\"https://creativecommons.org/licenses/by/4.0/\">Creative Commons CC BY-NC 4.0 License</a>.<br>For questions, comments, or improvements, email <a href=\"mailto:researchdatahelp@groups.dartmouth.edu\">Research Data Services</a>.\n",
    "    </td>\n",
    "    <td style=\"padding:0 0 0 1em;border-width:0px;vertical-align:center\"><img alt=\"Creative Commons License\" src=\"https://i.creativecommons.org/l/by/4.0/88x31.png\"/></td>\n",
    "  </tr>\n",
    "</tbody>\n",
    "</table>\n"
   ]
  }
 ],
 "metadata": {
  "kernelspec": {
   "display_name": ".env",
   "language": "python",
   "name": "python3"
  },
  "language_info": {
   "codemirror_mode": {
    "name": "ipython",
    "version": 3
   },
   "file_extension": ".py",
   "mimetype": "text/x-python",
   "name": "python",
   "nbconvert_exporter": "python",
   "pygments_lexer": "ipython3",
   "version": "3.11.4"
  },
  "orig_nbformat": 4
 },
 "nbformat": 4,
 "nbformat_minor": 2
}
