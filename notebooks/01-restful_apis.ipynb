{
 "cells": [
  {
   "cell_type": "markdown",
   "metadata": {},
   "source": [
    "# APIs in Python\n"
   ]
  },
  {
   "cell_type": "markdown",
   "metadata": {},
   "source": [
    "## REST\n",
    "\n",
    "_REST_ stands for _Representational State Transfer_. It is a specific way of structuring software, specifically network-based applications.\n",
    "\n",
    "Some of the major concepts of REST are:\n",
    "\n",
    "- **Resources**: The core building blocks of an application are resources (e.g., a web page, an image, a list of names, a sensor readout, ...)\n",
    "\n",
    "- **Actions**: The user interacts with the application using a relatively small set of actions (e.g., `GET` a resource)\n",
    "\n",
    "- **Stateless**: No action should depend on previous actions, i.e., the applications always responds to the same action in the same way\n",
    "\n",
    "An application that implements these concepts is called _RESTful_.\n"
   ]
  },
  {
   "cell_type": "markdown",
   "metadata": {},
   "source": [
    "## HTTP\n"
   ]
  },
  {
   "cell_type": "markdown",
   "metadata": {},
   "source": [
    "_HTTP_ stands for _HyperText Transfer Protocol_. It is a standardized communication protocol that makes browsing the internet work.\n",
    "\n",
    "<div class=\"alert alert-block alert-info\">\n",
    "\n",
    "Don't confuse HTTP with HTML (HyperText Markup Language)! Websites are _written_ in HTML, but _transporting_ their content across the internet to display it in your browser uses HTTP.\n",
    "\n",
    "</div>\n",
    "\n",
    "HTTP has many features of a RESTful system.\n",
    "\n",
    "HTTP uses a client-server communication model:\n",
    "\n",
    "- You are the client\n",
    "- The remote place on the internet is the server\n",
    "\n",
    "Client and server can communicate using _messages_.\n",
    "\n",
    "There are two kinds of messages:\n",
    "\n",
    "1. _requests_, which are sent by the client\n",
    "2. _responses_, which are sent by the server as an answer to a request\n",
    "\n",
    "### Structure of HTTP messages\n",
    "\n",
    "A request consists of several parts:\n",
    "\n",
    "1. A _method_, which indicates what the client wants to do (see [below](#http-request-methods))\n",
    "2. The _path_ to a resource that the client wants to interact with (e.g., a website)\n",
    "3. One or multiple _headers_, which are metadata that can convey additional information to the server (e.g., who is making the request)\n",
    "4. A _body_, which is required for some methods when the server needs data from the user to process the request (e.g., when submitting a form or logging in)\n",
    "\n",
    "A response has a slightly different structure:\n",
    "\n",
    "1. A _status code_, which indicates success or failure of the request, and why (e.g., \"404\" when a page could not be found). There are [a lot of possible response status codes](https://developer.mozilla.org/en-US/docs/Web/HTTP/Status) to choose from.\n",
    "2. A _status message_ describing the status code (e.g., \"Page not found\")\n",
    "3. One or multiple _headers_, containing metadata that might be useful to the client (e.g., details about the server location or software)\n",
    "4. A _body_, which contains the data requested by the client\n",
    "\n",
    "### HTTP request methods\n",
    "\n",
    "HTTP defines a [set of request methods](https://developer.mozilla.org/en-US/docs/Web/HTTP/Methods) that can be used by a client to interact with a server. In today's session, we will focus on just two of them:\n",
    "\n",
    "- `GET`: This method retrieves data\n",
    "- `POST`: This method sends data to the server and (optionally) receives data in return\n"
   ]
  },
  {
   "cell_type": "markdown",
   "metadata": {},
   "source": [
    "## HTTP demo\n",
    "\n",
    "Let's inspect what happens when we use our browser to go to a website.\n",
    "\n",
    "Please follow the steps below depending on which browser you are using and then proceed to [Inspecting a request](#inspecting-a-request)\n",
    "\n",
    "#### Google Chrome\n",
    "\n",
    "1. Open a new, blank tab\n",
    "2. [Open the Developer Tools](https://developer.chrome.com/docs/devtools/open/)\n",
    "3. Go to the Network tab in the Developer Tools\n",
    "4. Enter `https://www.library.dartmouth.edu/research-data-services` in the address bar of the browser and submit\n",
    "\n",
    "#### Mozilla Firefox\n",
    "\n",
    "1. Open a new, blank tab\n",
    "2. [Open the Web Developer Tools](https://firefox-source-docs.mozilla.org/devtools-user/#the-core-tools)\n",
    "3. Go to the Network tab in the Web Developer Tools\n",
    "4. Enter `https://www.library.dartmouth.edu/research-data-services` in the address bar of the browser and submit\n",
    "\n",
    "#### Apple Safari\n",
    "\n",
    "1. Open a new, blank tab\n",
    "2. [Enable the Develop menu](https://support.apple.com/guide/safari/use-the-developer-tools-in-the-develop-menu-sfri20948/mac)\n",
    "3. In the menu bar, choose `Develop->Show Web Inspector`\n",
    "4. Go to the Network tab in the Web Inspector\n",
    "5. Enter `https://www.library.dartmouth.edu/research-data-services` in the address bar of the browser and submit\n",
    "\n",
    "#### Microsoft Edge\n",
    "\n",
    "1. Open a new tab\n",
    "2. [Open the Dev Tools](https://learn.microsoft.com/en-us/microsoft-edge/devtools-guide-chromium/overview)\n",
    "3. Go to the Network tab in the Dev Tools\n",
    "4. Enter `https://www.library.dartmouth.edu/research-data-services` in the address bar of the browser and submit\n"
   ]
  },
  {
   "cell_type": "markdown",
   "metadata": {},
   "source": [
    "### Inspecting a request\n",
    "\n",
    "The Network log should have filled up with a bunch of entries when you navigated to the website. This is because the browser is making a series of requests from the Dartmouth Library server to retrieve all of the website content.\n",
    "\n",
    "Let's take a look at the very first request in the list:\n",
    "\n",
    "<div style=\"text-align:center;\">\n",
    "<img src=\"../img/demo-request.png\" alt=\"Screenshot of the developer tools showing the request\" width=\"600\"/>\n",
    "</div>\n",
    "\n",
    "Depending on your browser, this might look slightly different. The content should be very similar, though.\n",
    "\n",
    "We see the detailed breakdown of the request our browser made when we hit enter in the address bar:\n",
    "\n",
    "- The Request URL, which is the _path_ to the resource we want to interact with (the website).\n",
    "- The Request Method `GET`, which indicates what we want to do with this resource (in this case retrieve the website content)\n",
    "- The Status Code `200`, indicating that the request was a success\n",
    "\n",
    "We can also inspect the headers of our browser's request:\n",
    "\n",
    "<div style=\"text-align:center;\">\n",
    "<img src=\"../img/demo-request-headers.png\" alt=\"Screenshot of the developer tools showing the request headers\" width=\"600\"/>\n",
    "</div>\n",
    "\n",
    "There is a lot of meta information that a browser sends for a simple request like this and we will not go into all of it.\n",
    "\n",
    "<div class=\"alert alert-block alert-info\">\n",
    "\n",
    "Notice one header, though: `User-Agent` tells the server a little bit about who is making the request. In this case, you can see that the request was made by a Chrome browser running on an Apple computer. What does yours say?\n",
    "\n",
    "</div>\n",
    "\n",
    "In this view, we can also see the headers of the server's response:\n",
    "\n",
    "<div style=\"text-align:center;\">\n",
    "<img src=\"../img/demo-response-headers.png\" alt=\"Screenshot of the developer tools showing the response headers\" width=\"600\"/>\n",
    "</div>\n",
    "\n",
    "Once again, there is a lot going on here that we will not need to get into. One interesting header is called `Server`, which tells us a little bit about the software that is running on the server. Whenever the server wants to communicate such metainformation, it does so by adding a header to its response.\n",
    "\n",
    "Finally, we can inspect the body of the response by going to the Response tab:\n",
    "\n",
    "<div style=\"text-align:center;\">\n",
    "<img src=\"../img/demo-response-body.png\" alt=\"Screenshot of the developer tools showing the response body\" width=\"600\"/>\n",
    "</div>\n",
    "\n",
    "This is what we asked the server for: The HTML code of the requested website that the browser uses to render it.\n",
    "\n",
    "If you want to learn how to make such requests using Python instead of your browser, proceed to the [next notebook](02-python_requests.ipynb).\n"
   ]
  },
  {
   "cell_type": "markdown",
   "metadata": {},
   "source": []
  },
  {
   "cell_type": "markdown",
   "metadata": {},
   "source": [
    "References:\n",
    "\n",
    "- Roy Thomas Fielding and Richard N. Taylor. 2000. Architectural styles and the design of network-based software architectures. Ph.D. Dissertation. University of California, Irvine. Order Number: AAI9980887.\n",
    "- https://developer.mozilla.org/en-US/docs/Web/HTTP\n"
   ]
  },
  {
   "cell_type": "markdown",
   "metadata": {},
   "source": []
  }
 ],
 "metadata": {
  "kernelspec": {
   "display_name": ".env",
   "language": "python",
   "name": "python3"
  },
  "language_info": {
   "codemirror_mode": {
    "name": "ipython",
    "version": 3
   },
   "file_extension": ".py",
   "mimetype": "text/x-python",
   "name": "python",
   "nbconvert_exporter": "python",
   "pygments_lexer": "ipython3",
   "version": "3.11.4"
  },
  "orig_nbformat": 4
 },
 "nbformat": 4,
 "nbformat_minor": 2
}
