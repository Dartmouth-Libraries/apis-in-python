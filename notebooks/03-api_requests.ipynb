{
 "cells": [
  {
   "cell_type": "markdown",
   "metadata": {},
   "source": [
    "# Making API requests\n",
    "\n",
    "Many APIs on the web are also RESTful, so interacting with them works very similarly to interacting with a website. Whenever you use a data platform's search mask, chances are that this is just a browser-based frontend for the API.\n",
    "\n",
    "Let's look at an example:\n",
    "\n",
    "- Go to the website of [Dartmouth's lookup service](https://lookup.dartmouth.edu/)\n",
    "- Open your browser's developer tools so we can inspect the requests (see [above](#http-demo))\n",
    "- Enter `Dartmouth Library` in the textbox and click `Search`\n",
    "- Inspect the request in the developer tools\n",
    "\n",
    "You should see something like this:\n",
    "\n",
    "<div style=\"text-align:center;\">\n",
    "<img src=\"../img/demo-lookup-request.png\" alt=\"Screenshot of the developer tools showing the response headers\" width=\"600\"/>\n",
    "</div>\n"
   ]
  },
  {
   "cell_type": "markdown",
   "metadata": {},
   "source": [
    "When we clicked the `Search` button, a `GET` request was made.\n",
    "\n",
    "A closer look at the URL reveals that our search term was converted into a rather complicated-looking URL! Let's pick that URL apart:\n",
    "\n",
    "`https://api-lookup.dartmouth.edu/v1/lookup`: This is the base address of the lookup API.\n",
    "\n",
    "This base address is followed by a `q`, which indicates that the rest of the URL is a _query string_.\n",
    "\n",
    "A query string is a way to add additional information to a URL that the server can parse and use. This information must be structured as a pair of terms: The first term is the _key_, indicating what the second term represents, and the second term is the _value_, which is the actual bit of information we want to send.\n",
    "\n",
    "A query string can contain multiple parameters, which are separated by an `&`.\n",
    "\n",
    "We see this in the URL from our `GET` request:\n",
    "\n",
    "What we typed into the textbox was URL encoded (i.e., spaces are replaced with `%20` among other things) and sent to the server as a parameter named `q`. In addition, a number of parameters called `field` were added that appear to designate which fields we want to look up for the search term.\n",
    "\n",
    "The response from the API looks something like this:\n",
    "\n",
    "<div style=\"text-align:center;\">\n",
    "<img src=\"../img/demo-lookup-response.png\" alt=\"Screenshot of the developer tools showing the response body\" width=\"600\"/>\n",
    "</div>\n"
   ]
  },
  {
   "cell_type": "markdown",
   "metadata": {},
   "source": [
    "So we received the data we requested, just as raw text instead of rendered web page. This format is a standardized format called [JSON](https://www.json.org/json-en.html) and is very common for data exchange with web servers.\n",
    "\n",
    "Just like before, we can now reproduce this API call in Python using the requests module:\n"
   ]
  },
  {
   "cell_type": "code",
   "execution_count": null,
   "metadata": {},
   "outputs": [],
   "source": [
    "import requests\n",
    "\n",
    "search_term = \"Dartmouth Library\"  # The requests library makes sure that spaces are properly replaced\n",
    "base_url = \"https://api-lookup.dartmouth.edu/v1/lookup\"\n",
    "query_url = base_url + \"?q=\"\n",
    "response = requests.get(query_url + search_term)\n",
    "print(\"Status code: \", response.status_code)"
   ]
  },
  {
   "cell_type": "markdown",
   "metadata": {},
   "source": [
    "We can then inspect the response's body:\n"
   ]
  },
  {
   "cell_type": "code",
   "execution_count": null,
   "metadata": {},
   "outputs": [],
   "source": [
    "response.text"
   ]
  },
  {
   "cell_type": "markdown",
   "metadata": {},
   "source": [
    "This is just a string, which can be difficult to work with. If we were only interested to get the email address, for example, it would be tricky to pull that out.\n",
    "\n",
    "However, since this response is in JSON format, we can easily convert it to a Python dictionary by calling the `json()` method. The email address can then be easily retrieved:\n"
   ]
  },
  {
   "cell_type": "code",
   "execution_count": null,
   "metadata": {},
   "outputs": [],
   "source": [
    "# Convert to JSON and pull out the list of results called 'users'\n",
    "results = response.json()[\"users\"]\n",
    "# Show the email address of the first result\n",
    "results[0][\"mail\"]"
   ]
  },
  {
   "cell_type": "markdown",
   "metadata": {},
   "source": [
    "The benefit of using the API is that we can now automate multiple search requests:\n"
   ]
  },
  {
   "cell_type": "code",
   "execution_count": null,
   "metadata": {},
   "outputs": [],
   "source": [
    "# Create a list of search terms\n",
    "searches = [\"Simon Stone\", \"Dartmouth Library\", \"Research Computing\"]\n",
    "\n",
    "email_addresses = []\n",
    "\n",
    "# Iterate over the list\n",
    "for search in searches:\n",
    "    # Call the API\n",
    "    response = requests.get(query_url + search)\n",
    "    # Convert to JSON\n",
    "    results = response.json()[\"users\"]\n",
    "    email_addresses.append(results[0][\"mail\"])\n",
    "\n",
    "email_addresses"
   ]
  },
  {
   "cell_type": "markdown",
   "metadata": {},
   "source": [
    "Instead of putting the search terms into a list, we could also import them from a text file or an Excel sheet.\n",
    "\n",
    "<div class=\"alert alert-block alert-info\">\n",
    "\n",
    "APIs can help you gather large amounts of data from a server very quickly. Especially when doing the task manually would involve multiple search requests or parsing a large number of search results, you should find out if the service offers an API!\n",
    "\n",
    "</div>\n"
   ]
  },
  {
   "cell_type": "markdown",
   "metadata": {},
   "source": [
    "In this example, we have figured out how to use the API by reverse engineering the requests made by the browser. Usually, you do not have to do it this way: Most APIs come with documentation explaining their requirements and capabilities.\n",
    "\n",
    "In the [next notebook](04-api_documentation.ipynb), we will see how we can learn more about _how_ to use an API.\n"
   ]
  },
  {
   "cell_type": "markdown",
   "metadata": {},
   "source": [
    "<table >\n",
    "<tbody>\n",
    "  <tr>\n",
    "    <td style=\"padding:0px;border-width:0px;vertical-align:center\">    \n",
    "    Created by Simon Stone for Dartmouth College Library under <a href=\"https://creativecommons.org/licenses/by/4.0/\">Creative Commons CC BY-NC 4.0 License</a>.<br>For questions, comments, or improvements, email <a href=\"mailto:researchdatahelp@groups.dartmouth.edu\">Research Data Services</a>.\n",
    "    </td>\n",
    "    <td style=\"padding:0 0 0 1em;border-width:0px;vertical-align:center\"><img alt=\"Creative Commons License\" src=\"https://i.creativecommons.org/l/by/4.0/88x31.png\"/></td>\n",
    "  </tr>\n",
    "</tbody>\n",
    "</table>\n"
   ]
  }
 ],
 "metadata": {
  "kernelspec": {
   "display_name": ".env",
   "language": "python",
   "name": "python3"
  },
  "language_info": {
   "codemirror_mode": {
    "name": "ipython",
    "version": 3
   },
   "file_extension": ".py",
   "mimetype": "text/x-python",
   "name": "python",
   "nbconvert_exporter": "python",
   "pygments_lexer": "ipython3",
   "version": "3.11.4"
  },
  "orig_nbformat": 4
 },
 "nbformat": 4,
 "nbformat_minor": 2
}
